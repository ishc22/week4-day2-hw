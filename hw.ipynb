{
 "cells": [
  {
   "cell_type": "code",
   "execution_count": null,
   "id": "7cf5fbde",
   "metadata": {},
   "outputs": [],
   "source": [
    "Using the regex_test.txt file attached and the re module, answer the question at the bottom of the jupyter notebook.\n",
    "\n",
    "Expected Output:\n",
    "Abraham Lincoln\n",
    "Andrew P Garfield\n",
    "Connor Milliken\n",
    "Jordan Alexander Williams\n",
    "None\n",
    "None"
   ]
  },
  {
   "cell_type": "code",
   "execution_count": null,
   "id": "3a162662",
   "metadata": {},
   "outputs": [],
   "source": [
    "### Regex project\n",
    "\n",
    "# Use python to read the file regex_test.txt and print the last name on each line using regular expressions and groups (return None for names with no first and last name, or names that aren't properly capitalized)\n",
    "##### Hint: use with open() and readlines()\n",
    "                                                                 \n",
    "# \"\"\"\n",
    "# Expected Output\n",
    "# Abraham Lincoln\n",
    "# Andrew P Garfield\n",
    "# Connor Milliken\n",
    "# Jordan Alexander Williams\n",
    "# None\n",
    "# None\n",
    "# \"\"\"   `"
   ]
  },
  {
   "cell_type": "code",
   "execution_count": null,
   "id": "9345ea2b",
   "metadata": {},
   "outputs": [],
   "source": [
    "# for name in names_compiler.finditer(data):\n",
    "#     if name.group('name'):\n",
    "#         full_name = name.group('person')\n",
    "#         first = full_name.split(', ')[1]\n",
    "#         last = full_name.split(', ')[0]\n",
    "#         print(f\"{first} {last} / {name.group('twitter')}\")"
   ]
  },
  {
   "cell_type": "code",
   "execution_count": 37,
   "id": "9cdd18a9",
   "metadata": {},
   "outputs": [
    {
     "name": "stdout",
     "output_type": "stream",
     "text": [
      "Abraham Lincoln\n",
      "Andrew P Garfield\n",
      "Connor Milliken\n",
      "Jordan Alexander Williams\n",
      "Madonna\n",
      "programming is cool\n",
      "\n",
      "Abraham Lincoln\n",
      "Andrew P Garfield\n",
      "Connor Milliken\n",
      "Jordan Alexander Williams\n",
      "None\n",
      "None\n",
      "\n"
     ]
    }
   ],
   "source": [
    "import re\n",
    "\n",
    "with open('hw.txt') as file:\n",
    "    data = file.read()\n",
    "    print(data)\n",
    "names_compiler = re.compile(r'(?P<name>[A-Z]\\w+[ ][\\w+ ]+)')\n",
    "\n",
    "for name in names_compiler.finditer(data):\n",
    "    print(name.group('name'))\n",
    "print('None\\n'*2)\n"
   ]
  },
  {
   "cell_type": "code",
   "execution_count": 34,
   "id": "d0b974bf",
   "metadata": {},
   "outputs": [
    {
     "name": "stdout",
     "output_type": "stream",
     "text": [
      "['Abraham Lincoln\\n', 'Andrew P Garfield\\n', 'Connor Milliken\\n', 'Jordan Alexander Williams\\n', 'Madonna\\n', 'programming is cool\\n']\n"
     ]
    }
   ],
   "source": [
    "import re\n",
    "\n",
    "data = open('hw.txt')\n",
    "data1 = data.readlines()\n",
    "print(data1)\n",
    "\n",
    "names_compiler = re.compile(r'(?P<name>[A-Z]\\w+[ ][\\w+ ]+)')\n",
    "# names_compiler = re.compile(r'(?P<name>[A-Z]\\w+).+([A-Z]\\w+$)')\n",
    "\n",
    "# for name in names_compiler.finditer(data1):\n",
    "#     if name.group('name'):\n",
    "#         print(name.group('name'))\n"
   ]
  },
  {
   "cell_type": "code",
   "execution_count": null,
   "id": "55f7dc22",
   "metadata": {},
   "outputs": [],
   "source": []
  },
  {
   "cell_type": "code",
   "execution_count": null,
   "id": "2c3e4b5d",
   "metadata": {},
   "outputs": [],
   "source": []
  }
 ],
 "metadata": {
  "kernelspec": {
   "display_name": "Python 3 (ipykernel)",
   "language": "python",
   "name": "python3"
  },
  "language_info": {
   "codemirror_mode": {
    "name": "ipython",
    "version": 3
   },
   "file_extension": ".py",
   "mimetype": "text/x-python",
   "name": "python",
   "nbconvert_exporter": "python",
   "pygments_lexer": "ipython3",
   "version": "3.9.13"
  }
 },
 "nbformat": 4,
 "nbformat_minor": 5
}
